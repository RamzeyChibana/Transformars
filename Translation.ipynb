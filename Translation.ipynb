{
 "cells": [
  {
   "cell_type": "code",
   "execution_count": 1,
   "metadata": {},
   "outputs": [
    {
     "name": "stderr",
     "output_type": "stream",
     "text": [
      "c:\\dev\\python\\lib\\site-packages\\tqdm\\auto.py:22: TqdmWarning: IProgress not found. Please update jupyter and ipywidgets. See https://ipywidgets.readthedocs.io/en/stable/user_install.html\n",
      "  from .autonotebook import tqdm as notebook_tqdm\n"
     ]
    }
   ],
   "source": [
    "import numpy as np\n",
    "import tensorflow as tf\n",
    "import keras\n",
    "from keras import layers\n",
    "import tensorflow_datasets as tfds\n",
    "import matplotlib.pyplot as plt\n",
    "import tensorflow_text as text"
   ]
  },
  {
   "cell_type": "markdown",
   "metadata": {},
   "source": [
    "# HyperParameters"
   ]
  },
  {
   "cell_type": "code",
   "execution_count": 2,
   "metadata": {},
   "outputs": [],
   "source": [
    "MAX_TOKENS = 128\n",
    "BATCH_SIZE = 64\n",
    "BUFFER_SIZE = 1000\n",
    "NUM_LAYERS=4\n",
    "D_MODEL=128\n",
    "DFF=512\n",
    "NUM_HEADS=8\n",
    "EPOCHS = 25\n"
   ]
  },
  {
   "cell_type": "markdown",
   "metadata": {},
   "source": [
    "# Data Preprocessing"
   ]
  },
  {
   "cell_type": "code",
   "execution_count": 3,
   "metadata": {},
   "outputs": [
    {
     "name": "stdout",
     "output_type": "stream",
     "text": [
      "e quando melhoramos a procura , tiramos a única vantagem da impressão , que é a serendipidade .\n",
      "and when you improve searchability , you actually take away the one advantage of print , which is serendipity .\n",
      "\n",
      "mas e se estes fatores fossem ativos ?\n",
      "but what if it were active ?\n",
      "\n"
     ]
    }
   ],
   "source": [
    "data , info = tfds.load('ted_hrlr_translate/pt_to_en',with_info=True,as_supervised=True)\n",
    "train_data, val_data = data[\"train\"],data[\"validation\"]\n",
    "\n",
    "for pt,en in train_data.batch(1).take(2):\n",
    "    for example in pt.numpy() :\n",
    "        print(example.decode(\"utf-8\"))\n",
    "    for example in en.numpy():\n",
    "        print(example.decode(\"utf-8\"))  \n",
    "    print()  "
   ]
  },
  {
   "cell_type": "markdown",
   "metadata": {},
   "source": [
    "## load tokenizer"
   ]
  },
  {
   "cell_type": "code",
   "execution_count": 5,
   "metadata": {},
   "outputs": [
    {
     "name": "stdout",
     "output_type": "stream",
     "text": [
      "tf.Tensor(\n",
      "[b'e quando melhoramos a procura , tiramos a \\xc3\\xbanica vantagem da impress\\xc3\\xa3o , que \\xc3\\xa9 a serendipidade .'\n",
      " b'mas e se estes fatores fossem ativos ?'], shape=(2,), dtype=string)\n",
      "<tf.RaggedTensor [[2, 44, 115, 6402, 148, 40, 887, 14, 3936, 40, 2, 2715, 94, 2, 14, 84, 2,\n",
      "  40, 117, 1328, 2721, 818, 539, 16, 3]                                   ,\n",
      " [2, 99, 44, 89, 199, 2836, 1336, 3996, 32, 3]]>\n",
      "tf.Tensor(\n",
      "[[   2   44  115 6402  148   40  887   14 3936   40    2 2715   94    2\n",
      "    14   84    2   40  117 1328 2721  818  539   16    3]\n",
      " [   2   99   44   89  199 2836 1336 3996   32    3    0    0    0    0\n",
      "     0    0    0    0    0    0    0    0    0    0    0]], shape=(2, 25), dtype=int64)\n"
     ]
    }
   ],
   "source": [
    "tokenizers = tf.saved_model.load(\"tokenizers\")\n",
    "encoded = tokenizers.en.tokenize(en)\n",
    "\n",
    "\n",
    "for pt,en in train_data.batch(2).take(1):\n",
    "    print(pt)\n",
    "    pt = tokenizers.pt.tokenize(pt)\n",
    "    print(pt)\n",
    "    pt = pt[:,:MAX_TOKENS]\n",
    "    print(pt.to_tensor(default_value=0))\n",
    "\n"
   ]
  },
  {
   "cell_type": "markdown",
   "metadata": {},
   "source": [
    "## Build Data pipeline"
   ]
  },
  {
   "cell_type": "code",
   "execution_count": 6,
   "metadata": {},
   "outputs": [
    {
     "name": "stdout",
     "output_type": "stream",
     "text": [
      "tf.Tensor([   2   10  189   11 1084], shape=(5,), dtype=int64)\n",
      "tf.Tensor([  10  189   11 1084   13], shape=(5,), dtype=int64)\n",
      "\n",
      "tf.Tensor([   2  198 1912   80   41], shape=(5,), dtype=int64)\n",
      "tf.Tensor([ 198 1912   80   41 5992], shape=(5,), dtype=int64)\n",
      "\n",
      "tf.Tensor([   2 2505   27   75    9], shape=(5,), dtype=int64)\n",
      "tf.Tensor([2505   27   75    9   55], shape=(5,), dtype=int64)\n",
      "\n",
      "tf.Tensor([  2  78  86 131 207], shape=(5,), dtype=int64)\n",
      "tf.Tensor([ 78  86 131 207  71], shape=(5,), dtype=int64)\n",
      "\n",
      "(64, 128)\n"
     ]
    }
   ],
   "source": [
    "def load_tensors(pt,en):\n",
    "    pt = tokenizers.pt.tokenize(pt)\n",
    "    pt = pt[:,:MAX_TOKENS]\n",
    "    pt = pt.to_tensor() # PAD when ragged_tensor ==> tensor with 0\n",
    "\n",
    "    en = tokenizers.en.tokenize(en)\n",
    "    en = en[:,:MAX_TOKENS+1]\n",
    "    # we need en_label and en_inputs and that's for teacher_forcing\n",
    "    en_label = en[:,1:].to_tensor() # remove start\n",
    "    en = en[:,:-1].to_tensor() #remove end\n",
    "    return (pt,en),en_label\n",
    "    \n",
    "\n",
    "\n",
    "def tfData(ds):\n",
    "    ds = ds.shuffle(BUFFER_SIZE)\n",
    "    ds = ds.batch(BATCH_SIZE)\n",
    "    ds = ds.map(load_tensors)\n",
    "    ds = ds.prefetch(tf.data.AUTOTUNE)\n",
    "    return ds\n",
    "\n",
    "ds_train = tfData(train_data)\n",
    "ds_val = tfData(val_data)\n",
    "\n",
    "for (pt,en) , label in ds_train.take(4):\n",
    "    print(en[0][0:5])\n",
    "    print(label[0][0:5])\n",
    "    print()\n",
    "print(label.shape)"
   ]
  },
  {
   "cell_type": "markdown",
   "metadata": {},
   "source": [
    "# Build Model (Transformer)"
   ]
  },
  {
   "cell_type": "markdown",
   "metadata": {},
   "source": [
    "## Positional Embedding"
   ]
  },
  {
   "cell_type": "code",
   "execution_count": 8,
   "metadata": {},
   "outputs": [
    {
     "name": "stdout",
     "output_type": "stream",
     "text": [
      "(2048, 512)\n"
     ]
    }
   ],
   "source": [
    "def positional_encoding(length, depth):\n",
    "  depth = int(depth / 2)\n",
    "  pos = np.arange(length).reshape((length,1))\n",
    "  depth = np.arange(depth).reshape((1,depth))/depth\n",
    "\n",
    "  power = 1 / (10000**depth)\n",
    "\n",
    "  z = pos * power\n",
    "\n",
    "  pos_encoding = np.concatenate([np.sin(z),np.cos(z)],axis=-1)\n",
    "\n",
    "  return tf.cast(pos_encoding, dtype=tf.float32)\n",
    "\n",
    "pos_encoding = positional_encoding(length=2048, depth=512)\n",
    "print(pos_encoding.shape)"
   ]
  },
  {
   "cell_type": "code",
   "execution_count": 9,
   "metadata": {},
   "outputs": [
    {
     "name": "stdout",
     "output_type": "stream",
     "text": [
      "(64, 128, 512)\n",
      "(64, 128, 512)\n"
     ]
    }
   ],
   "source": [
    "# class PositionalEmbedding(layers.Layer):\n",
    "#     def __init__(self,vocab_size,d_model):\n",
    "#         super(PositionalEmbedding,self).__init__()\n",
    "#         self.d_model = d_model\n",
    "#         self.emb=layers.Embedding(vocab_size,d_model,mask_zero=True)\n",
    "#         self.pos_encoding=positional_encoding(2048,d_model)\n",
    "#     def call(self,inputs):\n",
    "#         length = inputs.shape[1]\n",
    "#         x = self.emb(inputs)\n",
    "#         x = x*tf.math.sqrt(tf.cast(self.d_model,dtype=tf.float32))\n",
    "#         x = x + self.pos_encoding[tf.newaxis,:length,:]\n",
    "        \n",
    "#         return x\n",
    "class PositionalEmbedding(tf.keras.layers.Layer):\n",
    "  def __init__(self, vocab_size, d_model):\n",
    "    super().__init__()\n",
    "    self.d_model = d_model\n",
    "    self.embedding = tf.keras.layers.Embedding(vocab_size, d_model, mask_zero=True) \n",
    "    self.pos_encoding = positional_encoding(length=2048, depth=d_model)\n",
    "\n",
    "  def call(self, x):\n",
    "    length = tf.shape(x)[1]\n",
    "    x = self.embedding(x)\n",
    "    x *= tf.math.sqrt(tf.cast(self.d_model, tf.float32))\n",
    "    x = x + self.pos_encoding[tf.newaxis, :length, :]\n",
    "    return x\n",
    "\n",
    "embed_pt = PositionalEmbedding(tokenizers.pt.get_vocab_size(),512)\n",
    "embed_en = PositionalEmbedding(tokenizers.en.get_vocab_size(),512)\n",
    "pt_em=embed_pt(pt)\n",
    "en_em=embed_en(en)\n",
    "\n",
    "print(pt_em.shape)\n",
    "print(en_em.shape)"
   ]
  },
  {
   "cell_type": "markdown",
   "metadata": {},
   "source": [
    "## Attention\n"
   ]
  },
  {
   "cell_type": "code",
   "execution_count": 10,
   "metadata": {},
   "outputs": [
    {
     "name": "stdout",
     "output_type": "stream",
     "text": [
      "glob :(64, 128, 512)\n",
      "cross :(64, 128, 512)\n",
      "mask :(64, 128, 512)\n"
     ]
    }
   ],
   "source": [
    "class Attention(layers.Layer):\n",
    "    def __init__(self,num_heads,key_dim,dropout_rate=0):\n",
    "        super(Attention,self).__init__()\n",
    "        self.mha = layers.MultiHeadAttention(num_heads=num_heads,key_dim=key_dim,dropout=dropout_rate)\n",
    "        self.normalizer = layers.LayerNormalization()\n",
    "        self.add = layers.Add()\n",
    "\n",
    "# self attention (global)\n",
    "class SelfAttention(Attention):\n",
    "    def call(self,inputs,training=False):\n",
    "        attenion = self.mha(query=inputs,key=inputs,value=inputs,training=training)\n",
    "        x = self.add([attenion,inputs])\n",
    "        x = self.normalizer(x)\n",
    "        return x\n",
    "    \n",
    "#cross Attention is the attention layers that connect between encoder and decoder\n",
    "class CrossAttention(Attention):\n",
    "    def call(self,context,inputs,training=False):\n",
    "        attention,attention_scores=self.mha(query=inputs,\n",
    "                                    key=context\n",
    "                                    ,value=context\n",
    "                                    ,return_attention_scores=True\n",
    "                                    ,training=training)\n",
    "        \n",
    "        self.attention_socres = attention_scores\n",
    "        x = self.add([attention,inputs])\n",
    "        x = self.normalizer(x)\n",
    "        return x\n",
    "    \n",
    "# Masked Attention for the decoder\n",
    "class MaskedAttention(Attention):\n",
    "    def call(self,inputs,training=False):\n",
    "        attention = self.mha(query=inputs,key=inputs,value=inputs,use_causal_mask=True,training=training)\n",
    "        x=self.add([attention,inputs])\n",
    "        x=self.normalizer(x)\n",
    "        return x\n",
    "\n",
    "glob=SelfAttention(2,512)\n",
    "cross=CrossAttention(2,512)\n",
    "mask=MaskedAttention(2,512)\n",
    "\n",
    "\n",
    "print(f\"glob :{glob(pt_em).shape}\")\n",
    "print(f\"cross :{cross(pt_em,en_em).shape}\")\n",
    "print(f\"mask :{mask(en_em).shape}\")\n",
    "glob=glob(pt_em)\n"
   ]
  },
  {
   "cell_type": "markdown",
   "metadata": {},
   "source": [
    "## Feed Forward"
   ]
  },
  {
   "cell_type": "code",
   "execution_count": 11,
   "metadata": {},
   "outputs": [],
   "source": [
    "class FeedForward(layers.Layer):\n",
    "    def __init__(self,d_model,units,dropout_rate=0.1):\n",
    "        super(FeedForward,self).__init__()\n",
    "        self.fc1=layers.Dense(units,activation=\"relu\")\n",
    "        self.fc2=layers.Dense(d_model)\n",
    "        self.drop=layers.Dropout(dropout_rate)\n",
    "        self.add=layers.Add()\n",
    "        self.normalizer = layers.LayerNormalization()\n",
    "    def call(self,inputs,training=False):\n",
    "        x = self.fc1(inputs,training=training)\n",
    "        x = self.fc2(x,training=training)\n",
    "        x = self.drop(x)\n",
    "        x = self.add([x,inputs])\n",
    "        x = self.normalizer(x)\n",
    "        return x\n",
    "\n",
    "# ffn = FeedForward(128, 2048)\n",
    "# print(ffn(glob).shape)"
   ]
  },
  {
   "cell_type": "markdown",
   "metadata": {},
   "source": [
    "## Encoder"
   ]
  },
  {
   "attachments": {
    "encoder.png": {
     "image/png": "[encoded data removed]"
    }
   },
   "cell_type": "markdown",
   "metadata": {},
   "source": [
    "![encoder.png](attachment:encoder.png)"
   ]
  },
  {
   "cell_type": "code",
   "execution_count": 12,
   "metadata": {},
   "outputs": [
    {
     "name": "stdout",
     "output_type": "stream",
     "text": [
      "(64, 128, 512)\n"
     ]
    }
   ],
   "source": [
    "class EncoderLayer(layers.Layer):\n",
    "    def __init__(self,num_heads,d_model,units,dropout_rate=0.1):\n",
    "        super(EncoderLayer,self).__init__()\n",
    "        self.mha=SelfAttention(num_heads,d_model,dropout_rate)\n",
    "        self.ffn=FeedForward(d_model,units)\n",
    "\n",
    "    def call(self,inputs,training=False):\n",
    "        x = self.mha(inputs,training=training)\n",
    "        x = self.ffn(x,training=training)\n",
    "        return x\n",
    "    \n",
    "encoder_layer = EncoderLayer(d_model=512, num_heads=8,units=2048)\n",
    "print(encoder_layer(pt_em).shape)"
   ]
  },
  {
   "cell_type": "code",
   "execution_count": 13,
   "metadata": {},
   "outputs": [
    {
     "name": "stdout",
     "output_type": "stream",
     "text": [
      "(64, 128, 512)\n"
     ]
    }
   ],
   "source": [
    "class Encoder(layers.Layer):\n",
    "    def __init__(self,num_layers,num_heads,d_model,units,vocab_size,dropout_rate = 0.1):\n",
    "        super(Encoder,self).__init__()\n",
    "\n",
    "        self.num_layers = num_layers\n",
    "\n",
    "        self.pos_embedding = PositionalEmbedding(vocab_size,d_model)\n",
    "        self.dropout = layers.Dropout(dropout_rate)\n",
    "\n",
    "        self.enc_layers = [EncoderLayer(num_heads,d_model,units,dropout_rate) \n",
    "                       for _ in range(num_layers)]\n",
    "\n",
    "    def call(self,inputs,training=False):\n",
    "        x = self.pos_embedding(inputs)\n",
    "        x= self.dropout(x,training=training)\n",
    "\n",
    "        for i in range(self.num_layers):\n",
    "            x = self.enc_layers[i](x,training=training)\n",
    "        \n",
    "        return x\n",
    "    \n",
    "\n",
    "encoder=Encoder(num_layers=4,d_model=512, num_heads=8,units=512,vocab_size=8500)\n",
    "print(encoder(pt).shape)\n",
    "\n",
    "\n",
    "        "
   ]
  },
  {
   "cell_type": "markdown",
   "metadata": {},
   "source": [
    "## Decoder"
   ]
  },
  {
   "cell_type": "code",
   "execution_count": 14,
   "metadata": {},
   "outputs": [
    {
     "name": "stdout",
     "output_type": "stream",
     "text": [
      "(64, 128, 512)\n"
     ]
    }
   ],
   "source": [
    "class DecoderLayer(layers.Layer):\n",
    "    def __init__(self,num_heads,d_model,units,dropout_rate=0.1):\n",
    "        super(DecoderLayer,self).__init__()\n",
    "\n",
    "        self.mask_mha=MaskedAttention(num_heads=num_heads\n",
    "                                      ,key_dim=d_model,\n",
    "                                      dropout_rate=dropout_rate)\n",
    "        \n",
    "        self.cross_mha=CrossAttention(num_heads=num_heads,\n",
    "                                      key_dim=d_model,\n",
    "                                      dropout_rate=dropout_rate)\n",
    "        \n",
    "        self.ffn=FeedForward(d_model,units)\n",
    "    \n",
    "    def call(self,context,inputs,training=False):\n",
    "        x = self.mask_mha(inputs,training=training)\n",
    "        x = self.cross_mha(context=context,inputs=x,training=training) \n",
    "\n",
    "        self.attension_score = self.cross_mha.attention_socres\n",
    "\n",
    "        x = self.ffn(x,training=training)\n",
    "        return x\n",
    "\n",
    "decoder_layer = DecoderLayer(d_model=512, num_heads=8, units=2048)\n",
    "print(decoder_layer(inputs=en_em,context=pt_em).shape)"
   ]
  },
  {
   "cell_type": "code",
   "execution_count": 15,
   "metadata": {},
   "outputs": [
    {
     "name": "stdout",
     "output_type": "stream",
     "text": [
      "(64, 128, 512)\n"
     ]
    }
   ],
   "source": [
    "class Decoder(layers.Layer):\n",
    "    def __init__(self,num_layers,num_heads,d_model,units,vocab_size,dropout_rate=0.1):\n",
    "        super(Decoder,self).__init__()\n",
    "\n",
    "        self.num_layers = num_layers\n",
    "\n",
    "        self.pos_embedding = PositionalEmbedding(vocab_size,d_model)\n",
    "        self.dropout=layers.Dropout(dropout_rate)\n",
    "        \n",
    "        self.dec_layers = [DecoderLayer(num_heads,d_model,units) \n",
    "                       for _ in range(num_layers) ]\n",
    "    \n",
    "    def call(self,inputs,context,training=False):\n",
    "        x = self.pos_embedding(inputs)\n",
    "        x = self.dropout(x,training=training)\n",
    "        \n",
    "        for i in range(self.num_layers):\n",
    "            x = self.dec_layers[i](inputs=x,context=context,training=training)\n",
    "        \n",
    "        self.attention_scores=self.dec_layers[-1].attension_score\n",
    "\n",
    "        return x\n",
    "\n",
    "decoder = Decoder(num_layers=4, d_model=512,num_heads=8,units=2048,vocab_size=8000)\n",
    "print(decoder(inputs=en,context=pt_em).shape)"
   ]
  },
  {
   "cell_type": "markdown",
   "metadata": {},
   "source": [
    "## Transformer"
   ]
  },
  {
   "cell_type": "code",
   "execution_count": 31,
   "metadata": {},
   "outputs": [],
   "source": [
    "class Transfomer(keras.Model):\n",
    "    def __init__(self,num_layers,d_model,num_heads,units,in_vocab_size,out_vocab_size,dropout_rate):\n",
    "        super(Transfomer,self).__init__()\n",
    "\n",
    "        self.encoder=Encoder(num_layers=num_layers,\n",
    "                             num_heads=num_heads,\n",
    "                             d_model=d_model,\n",
    "                             units=units,\n",
    "                             vocab_size=in_vocab_size,\n",
    "                             dropout_rate=dropout_rate)\n",
    "\n",
    "        self.decoder = Decoder(num_layers=num_layers,\n",
    "                               num_heads=num_heads,\n",
    "                               d_model=d_model,\n",
    "                               units=units,\n",
    "                               vocab_size=out_vocab_size,\n",
    "                               dropout_rate=dropout_rate)\n",
    "        \n",
    "        self.output_layer = layers.Dense(out_vocab_size)\n",
    "\n",
    "    def call(self,inputs,training=False):\n",
    "        pt , en = inputs\n",
    "\n",
    "        context = self.encoder(pt,training=training)\n",
    "        x = self.decoder(inputs=en,context = context,training=training)\n",
    "\n",
    "        x = self.output_layer(x)\n",
    "        return x\n",
    "\n"
   ]
  },
  {
   "cell_type": "code",
   "execution_count": 17,
   "metadata": {},
   "outputs": [
    {
     "name": "stdout",
     "output_type": "stream",
     "text": [
      "(64, 128)\n",
      "(64, 128, 7010)\n",
      "Model: \"transfomer\"\n",
      "_________________________________________________________________\n",
      " Layer (type)                Output Shape              Param #   \n",
      "=================================================================\n",
      " encoder_1 (Encoder)         multiple                  3632768   \n",
      "                                                                 \n",
      " decoder_1 (Decoder)         multiple                  5647104   \n",
      "                                                                 \n",
      " dense_36 (Dense)            multiple                  904290    \n",
      "                                                                 \n",
      "=================================================================\n",
      "Total params: 10,184,162\n",
      "Trainable params: 10,184,162\n",
      "Non-trainable params: 0\n",
      "_________________________________________________________________\n"
     ]
    }
   ],
   "source": [
    "transformer=Transfomer(num_layers=NUM_LAYERS,\n",
    "                       num_heads=NUM_HEADS,\n",
    "                       units=DFF,\n",
    "                       d_model=D_MODEL,\n",
    "                       in_vocab_size=tokenizers.pt.get_vocab_size().numpy(),\n",
    "                       out_vocab_size=tokenizers.en.get_vocab_size().numpy(),\n",
    "                       dropout_rate=0.1)\n",
    "\n",
    "print(en.shape)\n",
    "\n",
    "output=transformer((pt,en))\n",
    "print(output.shape)\n",
    "\n",
    "transformer.summary()"
   ]
  },
  {
   "cell_type": "markdown",
   "metadata": {},
   "source": [
    "# Training"
   ]
  },
  {
   "cell_type": "markdown",
   "metadata": {},
   "source": [
    "## Custom learning rate & Optimizer"
   ]
  },
  {
   "cell_type": "code",
   "execution_count": null,
   "metadata": {},
   "outputs": [
    {
     "data": {
      "text/plain": [
       "Text(0.5, 1.0, 'Example on learning rate')"
      ]
     },
     "execution_count": 42,
     "metadata": {},
     "output_type": "execute_result"
    },
    {
     "data": {
      "image/png": "[encoded data removed]",
      "text/plain": [
       "<Figure size 720x360 with 1 Axes>"
      ]
     },
     "metadata": {
      "needs_background": "light"
     },
     "output_type": "display_data"
    }
   ],
   "source": [
    "class CustomLearningrate(tf.keras.optimizers.schedules.LearningRateSchedule):\n",
    "    def __init__(self, d_model,warmup_steps=4000):\n",
    "        super().__init__()\n",
    "        self.d_model = tf.cast(d_model,tf.float32)\n",
    "        self.warmup_steps = warmup_steps\n",
    "    def __call__(self,step):\n",
    "        step = tf.cast(step,dtype=tf.float32)\n",
    "        arg1=tf.math.rsqrt(step)\n",
    "        arg2=step*(self.warmup_steps**-1.5)\n",
    "        return tf.math.rsqrt(self.d_model)*tf.math.minimum(arg1,arg2)\n",
    "\n",
    "learning_rate = CustomLearningrate(D_MODEL)\n",
    "optimizer = tf.keras.optimizers.Adam(learning_rate,beta_1=0.9,beta_2=0.98,epsilon=1e-9)\n",
    "\n",
    "fig , ax = plt.subplots(1,1,figsize=(10,5))\n",
    "ax.plot(learning_rate(tf.range(50000, dtype=tf.float32)))\n",
    "ax.set_ylabel('Learning Rate')\n",
    "ax.set_xlabel('Train Step')\n",
    "ax.set_title('Example on learning rate')"
   ]
  },
  {
   "cell_type": "markdown",
   "metadata": {},
   "source": [
    "## Loss"
   ]
  },
  {
   "cell_type": "code",
   "execution_count": null,
   "metadata": {},
   "outputs": [],
   "source": [
    "def custom_loss(label,pred):\n",
    "    mask = label != 0\n",
    "    loss_fn = tf.keras.losses.SparseCategoricalCrossentropy(reduction=\"none\")\n",
    "    loss = loss_fn(label,pred)\n",
    "    mask = tf.cast(mask,loss.dtype)\n",
    "    loss *= mask\n",
    "    loss = tf.reduce_sum(loss)/ tf.reduce_sum(mask)\n",
    "    return loss\n",
    "\n",
    "def custom_accuracy(label, pred):\n",
    "  \n",
    "  pred = tf.argmax(pred,axis=2)\n",
    "  label = tf.cast(label,pred.dtype)\n",
    "  match = label == pred\n",
    "\n",
    "  mask = label != 0\n",
    "\n",
    "  match = match & mask\n",
    "\n",
    "  match = tf.cast(match, dtype=tf.float32)\n",
    "  mask = tf.cast(mask, dtype=tf.float32)\n",
    "\n",
    "  return tf.reduce_sum(match)/tf.reduce_sum(mask)"
   ]
  },
  {
   "cell_type": "markdown",
   "metadata": {},
   "source": [
    "## Training"
   ]
  },
  {
   "cell_type": "code",
   "execution_count": null,
   "metadata": {},
   "outputs": [],
   "source": [
    "transformer.compile(optimizer=optimizer,\n",
    "                    loss=custom_loss,\n",
    "                    metrics=[custom_accuracy])"
   ]
  },
  {
   "cell_type": "code",
   "execution_count": null,
   "metadata": {},
   "outputs": [],
   "source": [
    "transformer.fit(ds_train,epochs=EPOCHS,validation_data=ds_val)"
   ]
  },
  {
   "cell_type": "code",
   "execution_count": 32,
   "metadata": {},
   "outputs": [],
   "source": [
    "transformer.load_weights(\"translator.h5\")"
   ]
  },
  {
   "cell_type": "code",
   "execution_count": 41,
   "metadata": {},
   "outputs": [
    {
     "name": "stdout",
     "output_type": "stream",
     "text": [
      "tf.Tensor([2], shape=(1,), dtype=int64) tf.Tensor([3], shape=(1,), dtype=int64) tf.Tensor([3], shape=(1,), dtype=int64)\n",
      "tf.Tensor([[2]], shape=(1, 1), dtype=int64)\n",
      "<tensorflow.python.ops.tensor_array_ops.TensorArray object at 0x000001FAE7A973A0>\n"
     ]
    }
   ],
   "source": [
    "start_end = tokenizers.pt.tokenize([''])[0]\n",
    "start = start_end[0][tf.newaxis]\n",
    "end = start_end[-1][tf.newaxis]\n",
    "this = start_end[1][tf.newaxis]\n",
    "\n",
    "print(start,end,this)\n",
    "\n",
    "output_array = tf.TensorArray(dtype=tf.int64, size=0, dynamic_size=True)\n",
    "output_array = output_array.write(0, start)\n",
    "print(output_array.stack())\n",
    "print(output_array)"
   ]
  },
  {
   "cell_type": "code",
   "execution_count": 53,
   "metadata": {},
   "outputs": [
    {
     "name": "stdout",
     "output_type": "stream",
     "text": [
      "Input:         : este é o primeiro livro que eu fiz.\n",
      "Prediction     : b'[UNK] so this is the first book that i did . i did .'\n",
      "Ground truth   : this is the first book i've ever done.\n"
     ]
    }
   ],
   "source": [
    "class Translator(tf.Module):\n",
    "      def __init__(self,tokenizers,transformer):\n",
    "        self.tokenizers = tokenizers\n",
    "        self.transformer = transformer\n",
    "\n",
    "      def __call__(self,pt):\n",
    "        pt = self.tokenizers.pt.tokenize(pt)\n",
    "        pt = pt[:,:MAX_TOKENS]\n",
    "        pt = pt.to_tensor()\n",
    "\n",
    "        tokens = self.tokenizers.pt.tokenize([\"\"])[0]\n",
    "        start = tokens[0][tf.newaxis]\n",
    "        end = tokens[-1][tf.newaxis]\n",
    "        english_array = tf.TensorArray(dtype=tf.int64,size=0,dynamic_size=True)\n",
    "        english_array = english_array.write(0,start)\n",
    "\n",
    "        for i in range(MAX_TOKENS):\n",
    "          en=english_array.stack()\n",
    "          en=tf.transpose(en)\n",
    "          pred = self.transformer([pt,en],training=False)\n",
    "          token_id = tf.argmax(pred[:,-1:,:],axis=-1)\n",
    "          english_array = english_array.write(i+1,token_id[0])\n",
    "          \n",
    "          if token_id == end :\n",
    "            break\n",
    "          \n",
    "        en=english_array.stack()\n",
    "        en=tf.transpose(en)\n",
    "        text = tokenizers.en.detokenize(en)[0]\n",
    "\n",
    "        return text\n",
    "def print_translation(sentence, predicted, ground_truth):\n",
    "  print(f'{\"Input:\":15s}: {sentence}')\n",
    "  print(f'{\"Prediction\":15s}: {predicted.numpy()}')\n",
    "  print(f'{\"Ground truth\":15s}: {ground_truth}')\n",
    "\n",
    "translator=Translator(tokenizers,transformer)\n",
    "sentence = 'este é o primeiro livro que eu fiz.'\n",
    "ground_truth = \"this is the first book i've ever done.\"\n",
    "\n",
    "text = translator([sentence])\n",
    "text = tf.strings.reduce_join(text, separator=' ', axis=-1)\n",
    "print_translation(sentence,text,ground_truth)\n",
    "       "
   ]
  }
 ],
 "metadata": {
  "kernelspec": {
   "display_name": "Python 3",
   "language": "python",
   "name": "python3"
  },
  "language_info": {
   "codemirror_mode": {
    "name": "ipython",
    "version": 3
   },
   "file_extension": ".py",
   "mimetype": "text/x-python",
   "name": "python",
   "nbconvert_exporter": "python",
   "pygments_lexer": "ipython3",
   "version": "3.9.7"
  },
  "orig_nbformat": 4
 },
 "nbformat": 4,
 "nbformat_minor": 2
}
